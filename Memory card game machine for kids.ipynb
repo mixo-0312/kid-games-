{
 "cells": [
  {
   "cell_type": "markdown",
   "id": "1df1fa94",
   "metadata": {},
   "source": [
    "**mixo lowunene**"
   ]
  },
  {
   "cell_type": "markdown",
   "id": "fe1707ff",
   "metadata": {},
   "source": [
    "The Memory Card Matching Game is a fun and simple game designed for kids, where the goal is to match pairs of cards. The game board consists of a grid of cards, each with a number hidden. There are two cards with the same number, and the player needs to find and match these pairs. To play, the player clicks on any card to flip it and reveal the number, then clicks on another card to flip it. If the two cards show the same number, they remain face up. If they don’t match, they are flipped back down after a short delay. The game continues until all pairs have been matched, and the player wins when all cards are face up. This game helps improve memory and concentration, and it’s easy to play with just a few simple rules."
   ]
  },
  {
   "cell_type": "code",
   "execution_count": null,
   "id": "6b00b2aa",
   "metadata": {},
   "outputs": [],
   "source": [
    "import tkinter as tk\n",
    "import random\n",
    "\n",
    "# Create the main window\n",
    "root = tk.Tk()\n",
    "root.title(\"Memory Card Matching Game\")\n",
    "root.geometry(\"600x600\")\n",
    "\n",
    "# Constants\n",
    "GRID_SIZE = 4  # 4x4 grid\n",
    "CARD_SIZE = 100\n",
    "PADDING = 10\n",
    "cards = list(range(1, (GRID_SIZE ** 2 // 2) + 1)) * 2  # Two of each card\n",
    "random.shuffle(cards)\n",
    "\n",
    "# Store the state of the cards (face up or down)\n",
    "flipped = [False] * (GRID_SIZE ** 2)\n",
    "first_card = None\n",
    "matched_cards = 0\n",
    "\n",
    "# Create the grid for the cards\n",
    "def create_buttons():\n",
    "    for i in range(GRID_SIZE ** 2):\n",
    "        row = i // GRID_SIZE\n",
    "        col = i % GRID_SIZE\n",
    "        button = tk.Button(root, width=10, height=5, command=lambda i=i: flip_card(i))\n",
    "        button.grid(row=row, column=col, padx=PADDING, pady=PADDING)\n",
    "        button.config(bg=\"lightblue\", text=\"\")\n",
    "        buttons.append(button)\n",
    "\n",
    "# Flip a card\n",
    "def flip_card(i):\n",
    "    global first_card, matched_cards\n",
    "    if flipped[i]:\n",
    "        return  # Ignore if the card is already flipped\n",
    "\n",
    "    flipped[i] = True\n",
    "    buttons[i].config(text=str(cards[i]), bg=\"white\")\n",
    "\n",
    "    if first_card is None:\n",
    "        first_card = i\n",
    "    else:\n",
    "        if cards[first_card] == cards[i]:  # Match\n",
    "            matched_cards += 2\n",
    "        else:  # No match\n",
    "            root.after(500, hide_cards, first_card, i)\n",
    "        first_card = None\n",
    "\n",
    "    check_win()\n",
    "\n",
    "# Hide unmatched cards after a delay\n",
    "def hide_cards(first, second):\n",
    "    flipped[first] = flipped[second] = False\n",
    "    buttons[first].config(text=\"\", bg=\"lightblue\")\n",
    "    buttons[second].config(text=\"\", bg=\"lightblue\")\n",
    "\n",
    "# Check if the game is won\n",
    "def check_win():\n",
    "    if matched_cards == GRID_SIZE ** 2:\n",
    "        win_label = tk.Label(root, text=\"You Win!\", font=(\"Arial\", 24), fg=\"green\")\n",
    "        win_label.grid(row=GRID_SIZE, column=0, columnspan=GRID_SIZE, pady=20)\n",
    "\n",
    "# List to store the button references\n",
    "buttons = []\n",
    "\n",
    "# Initialize the game grid\n",
    "create_buttons()\n",
    "\n",
    "# Run the application\n",
    "root.mainloop()\n"
   ]
  },
  {
   "cell_type": "code",
   "execution_count": null,
   "id": "260be41d",
   "metadata": {},
   "outputs": [],
   "source": []
  },
  {
   "cell_type": "code",
   "execution_count": null,
   "id": "95a05c62",
   "metadata": {},
   "outputs": [],
   "source": []
  }
 ],
 "metadata": {
  "kernelspec": {
   "display_name": "Python 3 (ipykernel)",
   "language": "python",
   "name": "python3"
  },
  "language_info": {
   "codemirror_mode": {
    "name": "ipython",
    "version": 3
   },
   "file_extension": ".py",
   "mimetype": "text/x-python",
   "name": "python",
   "nbconvert_exporter": "python",
   "pygments_lexer": "ipython3",
   "version": "3.11.2"
  }
 },
 "nbformat": 4,
 "nbformat_minor": 5
}
